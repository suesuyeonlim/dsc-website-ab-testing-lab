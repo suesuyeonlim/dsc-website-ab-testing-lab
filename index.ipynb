{
 "cells": [
  {
   "cell_type": "markdown",
   "metadata": {},
   "source": [
    "# Website A/B Testing - Lab\n",
    "\n",
    "## Introduction\n",
    "\n",
    "In this lab, you'll get another chance to practice your skills at conducting a full A/B test analysis. It will also be a chance to practice your data exploration and processing skills! The scenario you'll be investigating is data collected from the homepage of a music app page for audacity.\n",
    "\n",
    "## Objectives\n",
    "\n",
    "You will be able to:\n",
    "* Analyze the data from a website A/B test to draw relevant conclusions\n",
    "* Explore and analyze web action data"
   ]
  },
  {
   "cell_type": "markdown",
   "metadata": {},
   "source": [
    "## Exploratory Analysis\n",
    "\n",
    "Start by loading in the dataset stored in the file 'homepage_actions.csv'. Then conduct an exploratory analysis to get familiar with the data."
   ]
  },
  {
   "cell_type": "markdown",
   "metadata": {},
   "source": [
    "> Hints:\n",
    "    * Start investigating the id column:\n",
    "        * How many viewers also clicked?\n",
    "        * Are there any anomalies with the data; did anyone click who didn't view?\n",
    "        * Is there any overlap between the control and experiment groups? \n",
    "            * If so, how do you plan to account for this in your experimental design?"
   ]
  },
  {
   "cell_type": "code",
   "execution_count": 83,
   "metadata": {},
   "outputs": [],
   "source": [
    "import pandas as pd\n",
    "import matplotlib.pyplot as plt\n",
    "import seaborn as sns\n",
    "from scipy import stats\n",
    "import numpy as np\n",
    "\n",
    "df = pd.read_csv(\"homepage_actions.csv\")"
   ]
  },
  {
   "cell_type": "code",
   "execution_count": 129,
   "metadata": {},
   "outputs": [
    {
     "name": "stdout",
     "output_type": "stream",
     "text": [
      "There are 8188 observations with 6328 unique IDs. 3332 IDs are in the control group and 2996 IDs are in the experimental group.\n",
      "1860 IDs viewed and clicked.\n",
      "0 IDs clicked but did not view.\n",
      "0 IDs overlap between the control group and the experiment group\n"
     ]
    },
    {
     "data": {
      "image/png": "[encoded data removed]",
      "text/plain": [
       "<Figure size 432x288 with 1 Axes>"
      ]
     },
     "metadata": {
      "needs_background": "light"
     },
     "output_type": "display_data"
    }
   ],
   "source": [
    "print(\"There are {} observations with {} unique IDs. {} IDs are in the control group and \\\n",
    "{} IDs are in the experimental group.\".format(len(df), len(df[\"id\"].unique()), \\\n",
    "                                             len(df.loc[df[\"group\"] == \"control\", \"id\"].unique()), \\\n",
    "                                             len(df.loc[df[\"group\"] == \"experiment\", \"id\"].unique())))\n",
    "\n",
    "viewed_and_clicked = sum(df.loc[df[\"action\"] == \"view\", \"id\"].isin(df.loc[df[\"action\"] == \"click\", \"id\"]))\n",
    "print(\"{} IDs viewed and clicked.\".format(viewed_and_clicked))\n",
    "\n",
    "clicked_but_not_viewed = sum(~df.loc[df[\"action\"] == \"click\", \"id\"].isin(df.loc[df[\"action\"] == \"view\", \"id\"]))\n",
    "print(\"{} IDs clicked but did not view.\".format(clicked_but_not_viewed))\n",
    "\n",
    "overlap_between_control_experiment = sum(df.loc[df[\"group\"] == \"control\", \"id\"].isin(df.loc[df[\"group\"] == \"experiment\", \"id\"]))\n",
    "print(\"{} IDs overlap between the control group and the experiment group\".format(overlap_between_control_experiment))\n",
    "\n",
    "ax = sns.countplot(x = \"group\", data = df, hue = \"action\")"
   ]
  },
  {
   "cell_type": "markdown",
   "metadata": {},
   "source": [
    "## Conduct a Statistical Test\n",
    "\n",
    "Conduct a statistical test to determine whether the experimental homepage was more effective than that of the control group."
   ]
  },
  {
   "cell_type": "code",
   "execution_count": 135,
   "metadata": {},
   "outputs": [
    {
     "name": "stdout",
     "output_type": "stream",
     "text": [
      "3.636160051233291 0.056537191086915774\n"
     ]
    }
   ],
   "source": [
    "independence_table = pd.crosstab(df[\"group\"], df[\"action\"])\n",
    "chi2, p, dof, ex = stats.chi2_contingency(independence_table)\n",
    "print(chi2, p)"
   ]
  },
  {
   "cell_type": "markdown",
   "metadata": {},
   "source": [
    "## Verifying Results\n",
    "\n",
    "One sensible formulation of the data to answer the hypothesis test above would be to create a binary variable representing each individual in the experiment and control group. This binary variable would represent whether or not that individual clicked on the homepage; 1 for they did and 0 if they did not. \n",
    "\n",
    "The variance for the number of successes in a sample of a binomial variable with n observations is given by:\n",
    "\n",
    "## $n\\bullet p (1-p)$\n",
    "\n",
    "Given this, perform 3 steps to verify the results of your statistical test:\n",
    "1. Calculate the expected number of clicks for the experiment group, if it had the same click-through rate as that of the control group. \n",
    "2. Calculate the number of standard deviations that the actual number of clicks was from this estimate. \n",
    "3. Finally, calculate a p-value using the normal distribution based on this z-score."
   ]
  },
  {
   "cell_type": "markdown",
   "metadata": {},
   "source": [
    "### Step 1:\n",
    "Calculate the expected number of clicks for the experiment group, if it had the same click-through rate as that of the control group. "
   ]
  },
  {
   "cell_type": "code",
   "execution_count": 141,
   "metadata": {},
   "outputs": [],
   "source": [
    "total_experiment = len(df[(df[\"group\"] == \"experiment\") & (df[\"action\"] == \"view\")])\n",
    "total_control = len(df[(df[\"group\"] == \"control\") & (df[\"action\"] == \"view\")])\n",
    "\n",
    "actual_experiment = len(df[(df[\"group\"] == \"experiment\") & (df[\"action\"] == \"click\")])\n",
    "actual_control = len(df[(df[\"group\"] == \"control\") & (df[\"action\"] == \"click\")])\n",
    "\n",
    "ctr_experiment = actual_experiment / total_experiment\n",
    "ctr_control = actual_control / total_control\n",
    "\n",
    "expected_experiment = total_experiment * ctr_control"
   ]
  },
  {
   "cell_type": "markdown",
   "metadata": {},
   "source": [
    "### Step 2:\n",
    "Calculate the number of standard deviations that the actual number of clicks was from this estimate."
   ]
  },
  {
   "cell_type": "code",
   "execution_count": 144,
   "metadata": {},
   "outputs": [
    {
     "data": {
      "text/plain": [
       "3.6625360854823588"
      ]
     },
     "execution_count": 144,
     "metadata": {},
     "output_type": "execute_result"
    }
   ],
   "source": [
    "std_experiment = (actual_experiment - expected_experiment) / np.sqrt(total_experiment * ctr_control * (1 - ctr_control))\n",
    "std_experiment"
   ]
  },
  {
   "cell_type": "markdown",
   "metadata": {},
   "source": [
    "### Step 3: \n",
    "Finally, calculate a p-value using the normal distribution based on this z-score."
   ]
  },
  {
   "cell_type": "code",
   "execution_count": 148,
   "metadata": {},
   "outputs": [
    {
     "data": {
      "text/plain": [
       "0.00012486528006951198"
      ]
     },
     "execution_count": 148,
     "metadata": {},
     "output_type": "execute_result"
    }
   ],
   "source": [
    "stats.norm.sf(std_experiment)"
   ]
  },
  {
   "cell_type": "markdown",
   "metadata": {},
   "source": [
    "### Analysis:\n",
    "\n",
    "Does this result roughly match that of the previous statistical test?\n",
    "\n",
    "> Comment: The result does not seem to match that of the previous statistical test, as the previous statistical test failed to reject the null hypothesis whereas this result does reject it."
   ]
  },
  {
   "cell_type": "markdown",
   "metadata": {},
   "source": [
    "## Summary\n",
    "\n",
    "In this lab, you continued to get more practice designing and conducting AB tests. This required additional work preprocessing and formulating the initial problem in a suitable manner. Additionally, you also saw how to verify results, strengthening your knowledge of binomial variables, and reviewing initial statistical concepts of the central limit theorem, standard deviation, z-scores, and their accompanying p-values."
   ]
  }
 ],
 "metadata": {
  "kernelspec": {
   "display_name": "Python 3",
   "language": "python",
   "name": "python3"
  },
  "language_info": {
   "codemirror_mode": {
    "name": "ipython",
    "version": 3
   },
   "file_extension": ".py",
   "mimetype": "text/x-python",
   "name": "python",
   "nbconvert_exporter": "python",
   "pygments_lexer": "ipython3",
   "version": "3.8.5"
  }
 },
 "nbformat": 4,
 "nbformat_minor": 2
}
